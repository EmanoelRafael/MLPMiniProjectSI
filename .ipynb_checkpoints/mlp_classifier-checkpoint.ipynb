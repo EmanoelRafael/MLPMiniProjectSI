{
 "cells": [
  {
   "cell_type": "code",
   "execution_count": 22,
   "id": "62447e42",
   "metadata": {},
   "outputs": [],
   "source": [
    "from sklearn.neural_network import MLPClassifier\n",
    "from sklearn.model_selection import train_test_split\n",
    "from sklearn.datasets import make_classification\n",
    "from sklearn import metrics\n",
    "from sklearn.preprocessing import StandardScaler\n",
    "import seaborn as sns\n",
    "import pandas as pd\n",
    "import matplotlib.pyplot as plt"
   ]
  },
  {
   "cell_type": "markdown",
   "id": "3e3e5d91",
   "metadata": {},
   "source": [
    "## Creating the dataFrame"
   ]
  },
  {
   "cell_type": "code",
   "execution_count": 104,
   "id": "36c6942e",
   "metadata": {},
   "outputs": [
    {
     "data": {
      "text/html": [
       "<div>\n",
       "<style scoped>\n",
       "    .dataframe tbody tr th:only-of-type {\n",
       "        vertical-align: middle;\n",
       "    }\n",
       "\n",
       "    .dataframe tbody tr th {\n",
       "        vertical-align: top;\n",
       "    }\n",
       "\n",
       "    .dataframe thead th {\n",
       "        text-align: right;\n",
       "    }\n",
       "</style>\n",
       "<table border=\"1\" class=\"dataframe\">\n",
       "  <thead>\n",
       "    <tr style=\"text-align: right;\">\n",
       "      <th></th>\n",
       "      <th>Line</th>\n",
       "      <th>pelvic_incidence</th>\n",
       "      <th>pelvic_tilt</th>\n",
       "      <th>lumbar_lordosis_angle</th>\n",
       "      <th>sacral_slope</th>\n",
       "      <th>pelvic_radius</th>\n",
       "      <th>degree_spondylolisthesis</th>\n",
       "      <th>pelvic_slope</th>\n",
       "      <th>Direct_tilt</th>\n",
       "      <th>thoracic_slope</th>\n",
       "      <th>cervical_tilt</th>\n",
       "      <th>sacrum_angle</th>\n",
       "      <th>scoliosis_slope</th>\n",
       "      <th>class</th>\n",
       "      <th>target</th>\n",
       "    </tr>\n",
       "  </thead>\n",
       "  <tbody>\n",
       "    <tr>\n",
       "      <th>0</th>\n",
       "      <td>0</td>\n",
       "      <td>63.027817</td>\n",
       "      <td>22.552586</td>\n",
       "      <td>39.609117</td>\n",
       "      <td>40.475232</td>\n",
       "      <td>98.672917</td>\n",
       "      <td>-0.254400</td>\n",
       "      <td>0.744503</td>\n",
       "      <td>12.5661</td>\n",
       "      <td>14.5386</td>\n",
       "      <td>15.30468</td>\n",
       "      <td>-28.658501</td>\n",
       "      <td>43.5123</td>\n",
       "      <td>Abnormal</td>\n",
       "      <td>0</td>\n",
       "    </tr>\n",
       "    <tr>\n",
       "      <th>1</th>\n",
       "      <td>1</td>\n",
       "      <td>39.056951</td>\n",
       "      <td>10.060991</td>\n",
       "      <td>25.015378</td>\n",
       "      <td>28.995960</td>\n",
       "      <td>114.405425</td>\n",
       "      <td>4.564259</td>\n",
       "      <td>0.415186</td>\n",
       "      <td>12.8874</td>\n",
       "      <td>17.5323</td>\n",
       "      <td>16.78486</td>\n",
       "      <td>-25.530607</td>\n",
       "      <td>16.1102</td>\n",
       "      <td>Abnormal</td>\n",
       "      <td>0</td>\n",
       "    </tr>\n",
       "    <tr>\n",
       "      <th>2</th>\n",
       "      <td>2</td>\n",
       "      <td>68.832021</td>\n",
       "      <td>22.218482</td>\n",
       "      <td>50.092194</td>\n",
       "      <td>46.613539</td>\n",
       "      <td>105.985135</td>\n",
       "      <td>-3.530317</td>\n",
       "      <td>0.474889</td>\n",
       "      <td>26.8343</td>\n",
       "      <td>17.4861</td>\n",
       "      <td>16.65897</td>\n",
       "      <td>-29.031888</td>\n",
       "      <td>19.2221</td>\n",
       "      <td>Abnormal</td>\n",
       "      <td>0</td>\n",
       "    </tr>\n",
       "    <tr>\n",
       "      <th>3</th>\n",
       "      <td>3</td>\n",
       "      <td>69.297008</td>\n",
       "      <td>24.652878</td>\n",
       "      <td>44.311238</td>\n",
       "      <td>44.644130</td>\n",
       "      <td>101.868495</td>\n",
       "      <td>11.211523</td>\n",
       "      <td>0.369345</td>\n",
       "      <td>23.5603</td>\n",
       "      <td>12.7074</td>\n",
       "      <td>11.42447</td>\n",
       "      <td>-30.470246</td>\n",
       "      <td>18.8329</td>\n",
       "      <td>Abnormal</td>\n",
       "      <td>0</td>\n",
       "    </tr>\n",
       "    <tr>\n",
       "      <th>4</th>\n",
       "      <td>4</td>\n",
       "      <td>49.712859</td>\n",
       "      <td>9.652075</td>\n",
       "      <td>28.317406</td>\n",
       "      <td>40.060784</td>\n",
       "      <td>108.168725</td>\n",
       "      <td>7.918501</td>\n",
       "      <td>0.543360</td>\n",
       "      <td>35.4940</td>\n",
       "      <td>15.9546</td>\n",
       "      <td>8.87237</td>\n",
       "      <td>-16.378376</td>\n",
       "      <td>24.9171</td>\n",
       "      <td>Abnormal</td>\n",
       "      <td>0</td>\n",
       "    </tr>\n",
       "    <tr>\n",
       "      <th>...</th>\n",
       "      <td>...</td>\n",
       "      <td>...</td>\n",
       "      <td>...</td>\n",
       "      <td>...</td>\n",
       "      <td>...</td>\n",
       "      <td>...</td>\n",
       "      <td>...</td>\n",
       "      <td>...</td>\n",
       "      <td>...</td>\n",
       "      <td>...</td>\n",
       "      <td>...</td>\n",
       "      <td>...</td>\n",
       "      <td>...</td>\n",
       "      <td>...</td>\n",
       "      <td>...</td>\n",
       "    </tr>\n",
       "    <tr>\n",
       "      <th>305</th>\n",
       "      <td>305</td>\n",
       "      <td>47.903565</td>\n",
       "      <td>13.616688</td>\n",
       "      <td>36.000000</td>\n",
       "      <td>34.286877</td>\n",
       "      <td>117.449062</td>\n",
       "      <td>-4.245395</td>\n",
       "      <td>0.129744</td>\n",
       "      <td>7.8433</td>\n",
       "      <td>14.7484</td>\n",
       "      <td>8.51707</td>\n",
       "      <td>-15.728927</td>\n",
       "      <td>11.5472</td>\n",
       "      <td>Normal</td>\n",
       "      <td>1</td>\n",
       "    </tr>\n",
       "    <tr>\n",
       "      <th>306</th>\n",
       "      <td>306</td>\n",
       "      <td>53.936748</td>\n",
       "      <td>20.721496</td>\n",
       "      <td>29.220534</td>\n",
       "      <td>33.215251</td>\n",
       "      <td>114.365845</td>\n",
       "      <td>-0.421010</td>\n",
       "      <td>0.047913</td>\n",
       "      <td>19.1986</td>\n",
       "      <td>18.1972</td>\n",
       "      <td>7.08745</td>\n",
       "      <td>6.013843</td>\n",
       "      <td>43.8693</td>\n",
       "      <td>Normal</td>\n",
       "      <td>1</td>\n",
       "    </tr>\n",
       "    <tr>\n",
       "      <th>307</th>\n",
       "      <td>307</td>\n",
       "      <td>61.446597</td>\n",
       "      <td>22.694968</td>\n",
       "      <td>46.170347</td>\n",
       "      <td>38.751628</td>\n",
       "      <td>125.670725</td>\n",
       "      <td>-2.707880</td>\n",
       "      <td>0.081070</td>\n",
       "      <td>16.2059</td>\n",
       "      <td>13.5565</td>\n",
       "      <td>8.89572</td>\n",
       "      <td>3.564463</td>\n",
       "      <td>18.4151</td>\n",
       "      <td>Normal</td>\n",
       "      <td>1</td>\n",
       "    </tr>\n",
       "    <tr>\n",
       "      <th>308</th>\n",
       "      <td>308</td>\n",
       "      <td>45.252792</td>\n",
       "      <td>8.693157</td>\n",
       "      <td>41.583126</td>\n",
       "      <td>36.559635</td>\n",
       "      <td>118.545842</td>\n",
       "      <td>0.214750</td>\n",
       "      <td>0.159251</td>\n",
       "      <td>14.7334</td>\n",
       "      <td>16.0928</td>\n",
       "      <td>9.75922</td>\n",
       "      <td>5.767308</td>\n",
       "      <td>33.7192</td>\n",
       "      <td>Normal</td>\n",
       "      <td>1</td>\n",
       "    </tr>\n",
       "    <tr>\n",
       "      <th>309</th>\n",
       "      <td>309</td>\n",
       "      <td>33.841641</td>\n",
       "      <td>5.073991</td>\n",
       "      <td>36.641233</td>\n",
       "      <td>28.767649</td>\n",
       "      <td>123.945244</td>\n",
       "      <td>-0.199249</td>\n",
       "      <td>0.674504</td>\n",
       "      <td>19.3825</td>\n",
       "      <td>17.6963</td>\n",
       "      <td>13.72929</td>\n",
       "      <td>1.783007</td>\n",
       "      <td>40.6049</td>\n",
       "      <td>Normal</td>\n",
       "      <td>1</td>\n",
       "    </tr>\n",
       "  </tbody>\n",
       "</table>\n",
       "<p>310 rows × 15 columns</p>\n",
       "</div>"
      ],
      "text/plain": [
       "     Line  pelvic_incidence  pelvic_tilt  lumbar_lordosis_angle  sacral_slope  \\\n",
       "0       0         63.027817    22.552586              39.609117     40.475232   \n",
       "1       1         39.056951    10.060991              25.015378     28.995960   \n",
       "2       2         68.832021    22.218482              50.092194     46.613539   \n",
       "3       3         69.297008    24.652878              44.311238     44.644130   \n",
       "4       4         49.712859     9.652075              28.317406     40.060784   \n",
       "..    ...               ...          ...                    ...           ...   \n",
       "305   305         47.903565    13.616688              36.000000     34.286877   \n",
       "306   306         53.936748    20.721496              29.220534     33.215251   \n",
       "307   307         61.446597    22.694968              46.170347     38.751628   \n",
       "308   308         45.252792     8.693157              41.583126     36.559635   \n",
       "309   309         33.841641     5.073991              36.641233     28.767649   \n",
       "\n",
       "     pelvic_radius  degree_spondylolisthesis  pelvic_slope  Direct_tilt  \\\n",
       "0        98.672917                 -0.254400      0.744503      12.5661   \n",
       "1       114.405425                  4.564259      0.415186      12.8874   \n",
       "2       105.985135                 -3.530317      0.474889      26.8343   \n",
       "3       101.868495                 11.211523      0.369345      23.5603   \n",
       "4       108.168725                  7.918501      0.543360      35.4940   \n",
       "..             ...                       ...           ...          ...   \n",
       "305     117.449062                 -4.245395      0.129744       7.8433   \n",
       "306     114.365845                 -0.421010      0.047913      19.1986   \n",
       "307     125.670725                 -2.707880      0.081070      16.2059   \n",
       "308     118.545842                  0.214750      0.159251      14.7334   \n",
       "309     123.945244                 -0.199249      0.674504      19.3825   \n",
       "\n",
       "     thoracic_slope  cervical_tilt  sacrum_angle  scoliosis_slope     class  \\\n",
       "0           14.5386       15.30468    -28.658501          43.5123  Abnormal   \n",
       "1           17.5323       16.78486    -25.530607          16.1102  Abnormal   \n",
       "2           17.4861       16.65897    -29.031888          19.2221  Abnormal   \n",
       "3           12.7074       11.42447    -30.470246          18.8329  Abnormal   \n",
       "4           15.9546        8.87237    -16.378376          24.9171  Abnormal   \n",
       "..              ...            ...           ...              ...       ...   \n",
       "305         14.7484        8.51707    -15.728927          11.5472    Normal   \n",
       "306         18.1972        7.08745      6.013843          43.8693    Normal   \n",
       "307         13.5565        8.89572      3.564463          18.4151    Normal   \n",
       "308         16.0928        9.75922      5.767308          33.7192    Normal   \n",
       "309         17.6963       13.72929      1.783007          40.6049    Normal   \n",
       "\n",
       "     target  \n",
       "0         0  \n",
       "1         0  \n",
       "2         0  \n",
       "3         0  \n",
       "4         0  \n",
       "..      ...  \n",
       "305       1  \n",
       "306       1  \n",
       "307       1  \n",
       "308       1  \n",
       "309       1  \n",
       "\n",
       "[310 rows x 15 columns]"
      ]
     },
     "execution_count": 104,
     "metadata": {},
     "output_type": "execute_result"
    }
   ],
   "source": [
    "dataSet = pd.read_csv('./../dataSet/Dataset_spine.csv')\n",
    "\n",
    "dataSet.drop([dataSet.keys()[-1]], axis=1, inplace=True)\n",
    "dataSet['target'] = dataSet['class'].apply(lambda x: 0 if x == 'Abnormal' else 1)\n",
    "dataSet.insert(0,\"Line\", range(310),True)\n",
    "dataSet"
   ]
  },
  {
   "cell_type": "markdown",
   "id": "3018a907",
   "metadata": {},
   "source": [
    "## Creating the train and test arrays"
   ]
  },
  {
   "cell_type": "code",
   "execution_count": 105,
   "id": "1610056a",
   "metadata": {},
   "outputs": [
    {
     "data": {
      "text/plain": [
       "0      0\n",
       "1      0\n",
       "2      0\n",
       "3      0\n",
       "4      0\n",
       "      ..\n",
       "305    1\n",
       "306    1\n",
       "307    1\n",
       "308    1\n",
       "309    1\n",
       "Name: target, Length: 310, dtype: int64"
      ]
     },
     "execution_count": 105,
     "metadata": {},
     "output_type": "execute_result"
    }
   ],
   "source": [
    "y = dataSet.target\n",
    "y"
   ]
  },
  {
   "cell_type": "code",
   "execution_count": 106,
   "id": "4416d114",
   "metadata": {},
   "outputs": [
    {
     "data": {
      "text/plain": [
       "array([[-1.72647253,  0.14708636,  0.50136873, ...,  1.1671291 ,\n",
       "        -1.19658726,  1.71236843],\n",
       "       [-1.71529795, -1.24586434, -0.74876898, ...,  1.67955123,\n",
       "        -0.94032533, -0.91394145],\n",
       "       [-1.70412337,  0.4843695 ,  0.46793218, ...,  1.63596949,\n",
       "        -1.22717809, -0.61568643],\n",
       "       ...,\n",
       "       [ 1.70412337,  0.05520137,  0.51561812, ..., -1.05158278,\n",
       "         1.44337397, -0.69303204],\n",
       "       [ 1.71529795, -0.88582307, -0.88565951, ..., -0.75264852,\n",
       "         1.62384854,  0.77376463],\n",
       "       [ 1.72647253, -1.54892681, -1.24785954, ...,  0.62174631,\n",
       "         1.29742294,  1.43371339]])"
      ]
     },
     "execution_count": 106,
     "metadata": {},
     "output_type": "execute_result"
    }
   ],
   "source": [
    "X = pd.DataFrame(\n",
    "        dataSet.drop(axis=1, labels=['class', 'target']),\n",
    "        columns=dataSet.columns[:-2])\n",
    "scaler_model = StandardScaler()\n",
    "X = scaler_model.fit_transform(X)\n",
    "X"
   ]
  },
  {
   "cell_type": "code",
   "execution_count": 107,
   "id": "433f0e7b",
   "metadata": {},
   "outputs": [],
   "source": [
    "X_train, X_test, y_train, y_test = train_test_split(X, y, stratify=y, random_state=1)"
   ]
  },
  {
   "cell_type": "markdown",
   "id": "dadba02e",
   "metadata": {},
   "source": [
    "## Function To analyze the Classifier"
   ]
  },
  {
   "cell_type": "code",
   "execution_count": 124,
   "id": "754298d7",
   "metadata": {},
   "outputs": [],
   "source": [
    "def analyze(classifier):\n",
    "    plt.plot(classifier.loss_curve_)\n",
    "    plt.grid()\n",
    "    plt.show()\n",
    "\n",
    "    y_pred = classifier.predict(X_test)\n",
    "\n",
    "    confMatrix = metrics.confusion_matrix(y_test, y_pred)\n",
    "    sns.heatmap(\n",
    "        pd.DataFrame(confMatrix),\n",
    "        annot=True\n",
    "    )\n",
    "    plt.title(\"Confusion Matrix\")\n",
    "    plt.ylabel(\"Right Label\")\n",
    "    plt.xlabel(\"Predicted Label\")\n",
    "    \n",
    "    print(\"Hit Rate ====>  \", classifier.score(X_test,y_test))\n",
    "\n",
    "    return {'Score': classifier.score(X_test, y_test), 'Params': classifier.get_params()}\n",
    "    "
   ]
  },
  {
   "cell_type": "markdown",
   "id": "849afa49",
   "metadata": {},
   "source": [
    "## Base MLP"
   ]
  },
  {
   "cell_type": "code",
   "execution_count": null,
   "id": "8deeb927",
   "metadata": {},
   "outputs": [],
   "source": [
    "mlpClassifier = MLPClassifier(max_iter=500,activation='logistic')\n",
    "mlpClassifier.fit(X_train, y_train)"
   ]
  },
  {
   "cell_type": "markdown",
   "id": "43f28d4a",
   "metadata": {},
   "source": [
    "## First MLP classifier"
   ]
  },
  {
   "cell_type": "code",
   "execution_count": 117,
   "id": "218f2aa7",
   "metadata": {},
   "outputs": [
    {
     "data": {
      "text/html": [
       "<style>#sk-container-id-42 {color: black;background-color: white;}#sk-container-id-42 pre{padding: 0;}#sk-container-id-42 div.sk-toggleable {background-color: white;}#sk-container-id-42 label.sk-toggleable__label {cursor: pointer;display: block;width: 100%;margin-bottom: 0;padding: 0.3em;box-sizing: border-box;text-align: center;}#sk-container-id-42 label.sk-toggleable__label-arrow:before {content: \"▸\";float: left;margin-right: 0.25em;color: #696969;}#sk-container-id-42 label.sk-toggleable__label-arrow:hover:before {color: black;}#sk-container-id-42 div.sk-estimator:hover label.sk-toggleable__label-arrow:before {color: black;}#sk-container-id-42 div.sk-toggleable__content {max-height: 0;max-width: 0;overflow: hidden;text-align: left;background-color: #f0f8ff;}#sk-container-id-42 div.sk-toggleable__content pre {margin: 0.2em;color: black;border-radius: 0.25em;background-color: #f0f8ff;}#sk-container-id-42 input.sk-toggleable__control:checked~div.sk-toggleable__content {max-height: 200px;max-width: 100%;overflow: auto;}#sk-container-id-42 input.sk-toggleable__control:checked~label.sk-toggleable__label-arrow:before {content: \"▾\";}#sk-container-id-42 div.sk-estimator input.sk-toggleable__control:checked~label.sk-toggleable__label {background-color: #d4ebff;}#sk-container-id-42 div.sk-label input.sk-toggleable__control:checked~label.sk-toggleable__label {background-color: #d4ebff;}#sk-container-id-42 input.sk-hidden--visually {border: 0;clip: rect(1px 1px 1px 1px);clip: rect(1px, 1px, 1px, 1px);height: 1px;margin: -1px;overflow: hidden;padding: 0;position: absolute;width: 1px;}#sk-container-id-42 div.sk-estimator {font-family: monospace;background-color: #f0f8ff;border: 1px dotted black;border-radius: 0.25em;box-sizing: border-box;margin-bottom: 0.5em;}#sk-container-id-42 div.sk-estimator:hover {background-color: #d4ebff;}#sk-container-id-42 div.sk-parallel-item::after {content: \"\";width: 100%;border-bottom: 1px solid gray;flex-grow: 1;}#sk-container-id-42 div.sk-label:hover label.sk-toggleable__label {background-color: #d4ebff;}#sk-container-id-42 div.sk-serial::before {content: \"\";position: absolute;border-left: 1px solid gray;box-sizing: border-box;top: 0;bottom: 0;left: 50%;z-index: 0;}#sk-container-id-42 div.sk-serial {display: flex;flex-direction: column;align-items: center;background-color: white;padding-right: 0.2em;padding-left: 0.2em;position: relative;}#sk-container-id-42 div.sk-item {position: relative;z-index: 1;}#sk-container-id-42 div.sk-parallel {display: flex;align-items: stretch;justify-content: center;background-color: white;position: relative;}#sk-container-id-42 div.sk-item::before, #sk-container-id-42 div.sk-parallel-item::before {content: \"\";position: absolute;border-left: 1px solid gray;box-sizing: border-box;top: 0;bottom: 0;left: 50%;z-index: -1;}#sk-container-id-42 div.sk-parallel-item {display: flex;flex-direction: column;z-index: 1;position: relative;background-color: white;}#sk-container-id-42 div.sk-parallel-item:first-child::after {align-self: flex-end;width: 50%;}#sk-container-id-42 div.sk-parallel-item:last-child::after {align-self: flex-start;width: 50%;}#sk-container-id-42 div.sk-parallel-item:only-child::after {width: 0;}#sk-container-id-42 div.sk-dashed-wrapped {border: 1px dashed gray;margin: 0 0.4em 0.5em 0.4em;box-sizing: border-box;padding-bottom: 0.4em;background-color: white;}#sk-container-id-42 div.sk-label label {font-family: monospace;font-weight: bold;display: inline-block;line-height: 1.2em;}#sk-container-id-42 div.sk-label-container {text-align: center;}#sk-container-id-42 div.sk-container {/* jupyter's `normalize.less` sets `[hidden] { display: none; }` but bootstrap.min.css set `[hidden] { display: none !important; }` so we also need the `!important` here to be able to override the default hidden behavior on the sphinx rendered scikit-learn.org. See: https://github.com/scikit-learn/scikit-learn/issues/21755 */display: inline-block !important;position: relative;}#sk-container-id-42 div.sk-text-repr-fallback {display: none;}</style><div id=\"sk-container-id-42\" class=\"sk-top-container\"><div class=\"sk-text-repr-fallback\"><pre>MLPClassifier(activation=&#x27;logistic&#x27;, max_iter=500)</pre><b>In a Jupyter environment, please rerun this cell to show the HTML representation or trust the notebook. <br />On GitHub, the HTML representation is unable to render, please try loading this page with nbviewer.org.</b></div><div class=\"sk-container\" hidden><div class=\"sk-item\"><div class=\"sk-estimator sk-toggleable\"><input class=\"sk-toggleable__control sk-hidden--visually\" id=\"sk-estimator-id-42\" type=\"checkbox\" checked><label for=\"sk-estimator-id-42\" class=\"sk-toggleable__label sk-toggleable__label-arrow\">MLPClassifier</label><div class=\"sk-toggleable__content\"><pre>MLPClassifier(activation=&#x27;logistic&#x27;, max_iter=500)</pre></div></div></div></div></div>"
      ],
      "text/plain": [
       "MLPClassifier(activation='logistic', max_iter=500)"
      ]
     },
     "execution_count": 117,
     "metadata": {},
     "output_type": "execute_result"
    }
   ],
   "source": [
    "mlpClassifier = MLPClassifier(max_iter=500,activation='logistic')\n",
    "mlpClassifier.fit(X_train, y_train)"
   ]
  },
  {
   "cell_type": "markdown",
   "id": "e0fc32ea",
   "metadata": {},
   "source": [
    "### Analyzing the Classifier"
   ]
  },
  {
   "cell_type": "code",
   "execution_count": 120,
   "id": "06dbf6d7",
   "metadata": {},
   "outputs": [
    {
     "data": {
      "image/png": "[encoded data removed]",
      "text/plain": [
       "<Figure size 640x480 with 1 Axes>"
      ]
     },
     "metadata": {},
     "output_type": "display_data"
    },
    {
     "name": "stdout",
     "output_type": "stream",
     "text": [
      "Hit Rate ====>   1.0\n"
     ]
    },
    {
     "data": {
      "text/plain": [
       "{'Score': 1.0,\n",
       " 'Params': {'activation': 'logistic',\n",
       "  'alpha': 0.0001,\n",
       "  'batch_size': 'auto',\n",
       "  'beta_1': 0.9,\n",
       "  'beta_2': 0.999,\n",
       "  'early_stopping': False,\n",
       "  'epsilon': 1e-08,\n",
       "  'hidden_layer_sizes': (100,),\n",
       "  'learning_rate': 'constant',\n",
       "  'learning_rate_init': 0.001,\n",
       "  'max_fun': 15000,\n",
       "  'max_iter': 500,\n",
       "  'momentum': 0.9,\n",
       "  'n_iter_no_change': 10,\n",
       "  'nesterovs_momentum': True,\n",
       "  'power_t': 0.5,\n",
       "  'random_state': None,\n",
       "  'shuffle': True,\n",
       "  'solver': 'adam',\n",
       "  'tol': 0.0001,\n",
       "  'validation_fraction': 0.1,\n",
       "  'verbose': False,\n",
       "  'warm_start': False}}"
      ]
     },
     "execution_count": 120,
     "metadata": {},
     "output_type": "execute_result"
    },
    {
     "data": {
      "image/png": "[encoded data removed]",
      "text/plain": [
       "<Figure size 640x480 with 2 Axes>"
      ]
     },
     "metadata": {},
     "output_type": "display_data"
    }
   ],
   "source": [
    "analyze(mlpClassifier)"
   ]
  },
  {
   "cell_type": "markdown",
   "id": "c5d46cba",
   "metadata": {},
   "source": [
    "## Second MLP classifier"
   ]
  },
  {
   "cell_type": "code",
   "execution_count": 121,
   "id": "199f1687",
   "metadata": {},
   "outputs": [
    {
     "name": "stdout",
     "output_type": "stream",
     "text": [
      "Iteration 1, loss = 0.66948101\n",
      "Iteration 2, loss = 0.64190427\n",
      "Iteration 3, loss = 0.61753712\n",
      "Iteration 4, loss = 0.59538034\n",
      "Iteration 5, loss = 0.57339928\n",
      "Iteration 6, loss = 0.55447653\n",
      "Iteration 7, loss = 0.53591970\n",
      "Iteration 8, loss = 0.51835896\n",
      "Iteration 9, loss = 0.50182801\n",
      "Iteration 10, loss = 0.48608296\n",
      "Iteration 11, loss = 0.47146935\n",
      "Iteration 12, loss = 0.45698212\n",
      "Iteration 13, loss = 0.44381612\n",
      "Iteration 14, loss = 0.43082306\n",
      "Iteration 15, loss = 0.41903731\n",
      "Iteration 16, loss = 0.40720678\n",
      "Iteration 17, loss = 0.39642175\n",
      "Iteration 18, loss = 0.38582711\n",
      "Iteration 19, loss = 0.37588385\n",
      "Iteration 20, loss = 0.36615945\n",
      "Iteration 21, loss = 0.35677694\n",
      "Iteration 22, loss = 0.34766995\n",
      "Iteration 23, loss = 0.33893558\n",
      "Iteration 24, loss = 0.33029588\n",
      "Iteration 25, loss = 0.32217752\n",
      "Iteration 26, loss = 0.31412514\n",
      "Iteration 27, loss = 0.30644973\n",
      "Iteration 28, loss = 0.29890606\n",
      "Iteration 29, loss = 0.29160264\n",
      "Iteration 30, loss = 0.28463290\n"
     ]
    },
    {
     "name": "stderr",
     "output_type": "stream",
     "text": [
      "C:\\ProgramData\\anaconda3\\lib\\site-packages\\sklearn\\neural_network\\_multilayer_perceptron.py:684: ConvergenceWarning: Stochastic Optimizer: Maximum iterations (30) reached and the optimization hasn't converged yet.\n",
      "  warnings.warn(\n"
     ]
    },
    {
     "data": {
      "text/html": [
       "<style>#sk-container-id-43 {color: black;background-color: white;}#sk-container-id-43 pre{padding: 0;}#sk-container-id-43 div.sk-toggleable {background-color: white;}#sk-container-id-43 label.sk-toggleable__label {cursor: pointer;display: block;width: 100%;margin-bottom: 0;padding: 0.3em;box-sizing: border-box;text-align: center;}#sk-container-id-43 label.sk-toggleable__label-arrow:before {content: \"▸\";float: left;margin-right: 0.25em;color: #696969;}#sk-container-id-43 label.sk-toggleable__label-arrow:hover:before {color: black;}#sk-container-id-43 div.sk-estimator:hover label.sk-toggleable__label-arrow:before {color: black;}#sk-container-id-43 div.sk-toggleable__content {max-height: 0;max-width: 0;overflow: hidden;text-align: left;background-color: #f0f8ff;}#sk-container-id-43 div.sk-toggleable__content pre {margin: 0.2em;color: black;border-radius: 0.25em;background-color: #f0f8ff;}#sk-container-id-43 input.sk-toggleable__control:checked~div.sk-toggleable__content {max-height: 200px;max-width: 100%;overflow: auto;}#sk-container-id-43 input.sk-toggleable__control:checked~label.sk-toggleable__label-arrow:before {content: \"▾\";}#sk-container-id-43 div.sk-estimator input.sk-toggleable__control:checked~label.sk-toggleable__label {background-color: #d4ebff;}#sk-container-id-43 div.sk-label input.sk-toggleable__control:checked~label.sk-toggleable__label {background-color: #d4ebff;}#sk-container-id-43 input.sk-hidden--visually {border: 0;clip: rect(1px 1px 1px 1px);clip: rect(1px, 1px, 1px, 1px);height: 1px;margin: -1px;overflow: hidden;padding: 0;position: absolute;width: 1px;}#sk-container-id-43 div.sk-estimator {font-family: monospace;background-color: #f0f8ff;border: 1px dotted black;border-radius: 0.25em;box-sizing: border-box;margin-bottom: 0.5em;}#sk-container-id-43 div.sk-estimator:hover {background-color: #d4ebff;}#sk-container-id-43 div.sk-parallel-item::after {content: \"\";width: 100%;border-bottom: 1px solid gray;flex-grow: 1;}#sk-container-id-43 div.sk-label:hover label.sk-toggleable__label {background-color: #d4ebff;}#sk-container-id-43 div.sk-serial::before {content: \"\";position: absolute;border-left: 1px solid gray;box-sizing: border-box;top: 0;bottom: 0;left: 50%;z-index: 0;}#sk-container-id-43 div.sk-serial {display: flex;flex-direction: column;align-items: center;background-color: white;padding-right: 0.2em;padding-left: 0.2em;position: relative;}#sk-container-id-43 div.sk-item {position: relative;z-index: 1;}#sk-container-id-43 div.sk-parallel {display: flex;align-items: stretch;justify-content: center;background-color: white;position: relative;}#sk-container-id-43 div.sk-item::before, #sk-container-id-43 div.sk-parallel-item::before {content: \"\";position: absolute;border-left: 1px solid gray;box-sizing: border-box;top: 0;bottom: 0;left: 50%;z-index: -1;}#sk-container-id-43 div.sk-parallel-item {display: flex;flex-direction: column;z-index: 1;position: relative;background-color: white;}#sk-container-id-43 div.sk-parallel-item:first-child::after {align-self: flex-end;width: 50%;}#sk-container-id-43 div.sk-parallel-item:last-child::after {align-self: flex-start;width: 50%;}#sk-container-id-43 div.sk-parallel-item:only-child::after {width: 0;}#sk-container-id-43 div.sk-dashed-wrapped {border: 1px dashed gray;margin: 0 0.4em 0.5em 0.4em;box-sizing: border-box;padding-bottom: 0.4em;background-color: white;}#sk-container-id-43 div.sk-label label {font-family: monospace;font-weight: bold;display: inline-block;line-height: 1.2em;}#sk-container-id-43 div.sk-label-container {text-align: center;}#sk-container-id-43 div.sk-container {/* jupyter's `normalize.less` sets `[hidden] { display: none; }` but bootstrap.min.css set `[hidden] { display: none !important; }` so we also need the `!important` here to be able to override the default hidden behavior on the sphinx rendered scikit-learn.org. See: https://github.com/scikit-learn/scikit-learn/issues/21755 */display: inline-block !important;position: relative;}#sk-container-id-43 div.sk-text-repr-fallback {display: none;}</style><div id=\"sk-container-id-43\" class=\"sk-top-container\"><div class=\"sk-text-repr-fallback\"><pre>MLPClassifier(max_iter=30, random_state=1, verbose=True)</pre><b>In a Jupyter environment, please rerun this cell to show the HTML representation or trust the notebook. <br />On GitHub, the HTML representation is unable to render, please try loading this page with nbviewer.org.</b></div><div class=\"sk-container\" hidden><div class=\"sk-item\"><div class=\"sk-estimator sk-toggleable\"><input class=\"sk-toggleable__control sk-hidden--visually\" id=\"sk-estimator-id-43\" type=\"checkbox\" checked><label for=\"sk-estimator-id-43\" class=\"sk-toggleable__label sk-toggleable__label-arrow\">MLPClassifier</label><div class=\"sk-toggleable__content\"><pre>MLPClassifier(max_iter=30, random_state=1, verbose=True)</pre></div></div></div></div></div>"
      ],
      "text/plain": [
       "MLPClassifier(max_iter=30, random_state=1, verbose=True)"
      ]
     },
     "execution_count": 121,
     "metadata": {},
     "output_type": "execute_result"
    }
   ],
   "source": [
    "mlpClassifier = MLPClassifier(random_state=1, max_iter=30,verbose=True)\n",
    "mlpClassifier.fit(X_train, y_train)"
   ]
  },
  {
   "cell_type": "code",
   "execution_count": 125,
   "id": "c015c928",
   "metadata": {},
   "outputs": [
    {
     "data": {
      "image/png": "[encoded data removed]",
      "text/plain": [
       "<Figure size 640x480 with 1 Axes>"
      ]
     },
     "metadata": {},
     "output_type": "display_data"
    },
    {
     "name": "stdout",
     "output_type": "stream",
     "text": [
      "Hit Rate ====>   0.9487179487179487\n"
     ]
    },
    {
     "data": {
      "text/plain": [
       "{'Score': 0.9487179487179487,\n",
       " 'Params': {'activation': 'relu',\n",
       "  'alpha': 0.0001,\n",
       "  'batch_size': 'auto',\n",
       "  'beta_1': 0.9,\n",
       "  'beta_2': 0.999,\n",
       "  'early_stopping': False,\n",
       "  'epsilon': 1e-08,\n",
       "  'hidden_layer_sizes': (100,),\n",
       "  'learning_rate': 'constant',\n",
       "  'learning_rate_init': 0.001,\n",
       "  'max_fun': 15000,\n",
       "  'max_iter': 30,\n",
       "  'momentum': 0.9,\n",
       "  'n_iter_no_change': 10,\n",
       "  'nesterovs_momentum': True,\n",
       "  'power_t': 0.5,\n",
       "  'random_state': 1,\n",
       "  'shuffle': True,\n",
       "  'solver': 'adam',\n",
       "  'tol': 0.0001,\n",
       "  'validation_fraction': 0.1,\n",
       "  'verbose': True,\n",
       "  'warm_start': False}}"
      ]
     },
     "execution_count": 125,
     "metadata": {},
     "output_type": "execute_result"
    },
    {
     "data": {
      "image/png": "[encoded data removed]",
      "text/plain": [
       "<Figure size 640x480 with 2 Axes>"
      ]
     },
     "metadata": {},
     "output_type": "display_data"
    }
   ],
   "source": [
    "analyze(mlpClassifier)"
   ]
  }
 ],
 "metadata": {
  "kernelspec": {
   "display_name": "Python 3 (ipykernel)",
   "language": "python",
   "name": "python3"
  },
  "language_info": {
   "codemirror_mode": {
    "name": "ipython",
    "version": 3
   },
   "file_extension": ".py",
   "mimetype": "text/x-python",
   "name": "python",
   "nbconvert_exporter": "python",
   "pygments_lexer": "ipython3",
   "version": "3.10.9"
  }
 },
 "nbformat": 4,
 "nbformat_minor": 5
}
